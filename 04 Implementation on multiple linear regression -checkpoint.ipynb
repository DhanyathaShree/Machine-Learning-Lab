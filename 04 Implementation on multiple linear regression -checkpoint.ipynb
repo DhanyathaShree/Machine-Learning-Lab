{
 "cells": [
  {
   "cell_type": "markdown",
   "id": "99f8f249-4478-40c4-930b-d30c00c500bc",
   "metadata": {},
   "source": [
    "### 4. Implementation on multiple linear regression "
   ]
  },
  {
   "cell_type": "code",
   "execution_count": 2,
   "id": "56209e9d-1d52-493f-a504-41728a341f7e",
   "metadata": {},
   "outputs": [
    {
     "name": "stdout",
     "output_type": "stream",
     "text": [
      "   R&D Spend  Administration  Marketing Spend  State     Profit\n",
      "0  165349.20       136897.80        471784.10      2  192261.83\n",
      "1  162597.70       151377.59        443898.53      0  191792.06\n",
      "2  153441.51       101145.55        407934.54      1  191050.39\n",
      "3  144372.41       118671.85        383199.62      2  182901.99\n",
      "4  142107.34        91391.77        366168.42      1  166187.94\n",
      "\n",
      "x size: (50, 4)\n",
      "y size: (50,)\n",
      "r2 score= 0.9386861070938133\n",
      "\n",
      "Name : Dhanyatha Shree C A\n",
      "Roll No : CB.SC.I5DAS21023\n",
      "\n"
     ]
    }
   ],
   "source": [
    "import numpy as np\n",
    "import matplotlib.pyplot as plt\n",
    "import pandas as pd\n",
    "from sklearn.preprocessing import LabelEncoder\n",
    "df=pd.read_csv('startup.csv')\n",
    "le=LabelEncoder()\n",
    "encoded=le.fit_transform(df['State'])\n",
    "df['State']=encoded\n",
    "print(df.head())\n",
    "print()\n",
    "\n",
    "x=df.iloc[:,:-1]\n",
    "y=df.iloc[:,4]\n",
    "#print(x,y)\n",
    "print(\"x size:\",x.shape)\n",
    "print(\"y size:\",y.shape)\n",
    "\n",
    "from sklearn.model_selection import train_test_split\n",
    "x_train,x_test,y_train,y_test=train_test_split(x,y,test_size=0.2,random_state=0)\n",
    "\n",
    "from sklearn.linear_model import LinearRegression\n",
    "re=LinearRegression()\n",
    "re.fit(x_train,y_train)\n",
    "y_pred=re.predict(x_test)\n",
    "\n",
    "from sklearn.metrics import r2_score\n",
    "score=r2_score(y_test,y_pred)\n",
    "print(\"r2 score=\",score)\n",
    "print(\"\\nName : Dhanyatha Shree C A\\nRoll No : CB.SC.I5DAS21023\\n\")"
   ]
  },
  {
   "cell_type": "code",
   "execution_count": null,
   "id": "60ea874a-ccb6-43fa-8b9b-313b8d7c3759",
   "metadata": {},
   "outputs": [],
   "source": []
  }
 ],
 "metadata": {
  "kernelspec": {
   "display_name": "Python 3 (ipykernel)",
   "language": "python",
   "name": "python3"
  },
  "language_info": {
   "codemirror_mode": {
    "name": "ipython",
    "version": 3
   },
   "file_extension": ".py",
   "mimetype": "text/x-python",
   "name": "python",
   "nbconvert_exporter": "python",
   "pygments_lexer": "ipython3",
   "version": "3.12.0"
  }
 },
 "nbformat": 4,
 "nbformat_minor": 5
}
