{
 "cells": [
  {
   "cell_type": "markdown",
   "id": "4be8f2d6",
   "metadata": {},
   "source": [
    "### 20. Ada Boost Implementation"
   ]
  },
  {
   "cell_type": "code",
   "execution_count": 5,
   "id": "5ea0c5f5",
   "metadata": {},
   "outputs": [],
   "source": [
    "from sklearn.ensemble import AdaBoostClassifier,AdaBoostRegressor\n",
    "from sklearn.datasets import load_iris,fetch_california_housing\n",
    "from sklearn.model_selection import train_test_split\n",
    "from sklearn.metrics import accuracy_score,mean_squared_error\n"
   ]
  },
  {
   "cell_type": "code",
   "execution_count": 2,
   "id": "eff69e21",
   "metadata": {},
   "outputs": [],
   "source": [
    "iris_data = load_iris()\n",
    "X_iris = iris_data.data\n",
    "y_iris = iris_data.target\n",
    "\n",
    "X_train_iris, X_test_iris, y_train_iris, y_test_iris = train_test_split(X_iris, y_iris, test_size=0.2, random_state=42)\n"
   ]
  },
  {
   "cell_type": "code",
   "execution_count": 6,
   "id": "6350bd71",
   "metadata": {},
   "outputs": [
    {
     "name": "stdout",
     "output_type": "stream",
     "text": [
      "Accuracy Iris: 1.0\n",
      "\n",
      "Name: Dhanyatha Shree C A\n",
      "Roll No: CB.SC.I5DAS21023\n",
      "\n"
     ]
    }
   ],
   "source": [
    "adaboost_classifier=AdaBoostClassifier(n_estimators=50,random_state=34)\n",
    "adaboost_classifier.fit(X_train_iris,y_train_iris)\n",
    "y_pred_iris = adaboost_classifier.predict(X_test_iris)\n",
    "\n",
    "accuracy_iris = accuracy_score(y_test_iris, y_pred_iris)\n",
    "print(\"Accuracy Iris:\", accuracy_iris)\n",
    "print(\"\\nName: Dhanyatha Shree C A\\nRoll No: CB.SC.I5DAS21023\\n\")"
   ]
  },
  {
   "cell_type": "markdown",
   "id": "929824e7",
   "metadata": {},
   "source": [
    "#### adaboost regressor"
   ]
  },
  {
   "cell_type": "code",
   "execution_count": 7,
   "id": "eb52c215",
   "metadata": {},
   "outputs": [
    {
     "name": "stdout",
     "output_type": "stream",
     "text": [
      "Mean Squared Error: 0.614478459432694\n",
      "\n",
      "Name: Dhanyatha Shree C A\n",
      "Roll No: CB.SC.I5DAS21023\n",
      "\n"
     ]
    }
   ],
   "source": [
    "data = fetch_california_housing()\n",
    "X = data.data\n",
    "y = data.target\n",
    "\n",
    "X_train, X_test, y_train, y_test = train_test_split(X, y, test_size=0.2, random_state=42)\n",
    "\n",
    "ada_boost_regressor = AdaBoostRegressor(n_estimators=50, random_state=42)\n",
    "ada_boost_regressor.fit(X_train, y_train)\n",
    "\n",
    "y_pred= ada_boost_regressor.predict(X_test)\n",
    "\n",
    "mse = mean_squared_error(y_test, y_pred)\n",
    "print(\"Mean Squared Error:\", mse)\n",
    "print(\"\\nName: Dhanyatha Shree C A\\nRoll No: CB.SC.I5DAS21023\\n\")"
   ]
  },
  {
   "cell_type": "code",
   "execution_count": null,
   "id": "6f708f80",
   "metadata": {},
   "outputs": [],
   "source": []
  }
 ],
 "metadata": {
  "kernelspec": {
   "display_name": "Python 3 (ipykernel)",
   "language": "python",
   "name": "python3"
  },
  "language_info": {
   "codemirror_mode": {
    "name": "ipython",
    "version": 3
   },
   "file_extension": ".py",
   "mimetype": "text/x-python",
   "name": "python",
   "nbconvert_exporter": "python",
   "pygments_lexer": "ipython3",
   "version": "3.12.0"
  }
 },
 "nbformat": 4,
 "nbformat_minor": 5
}
