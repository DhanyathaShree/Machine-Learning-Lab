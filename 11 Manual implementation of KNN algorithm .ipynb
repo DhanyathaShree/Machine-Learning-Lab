{
 "cells": [
  {
   "cell_type": "markdown",
   "id": "2a3f4e61-d758-4137-804d-db051c522578",
   "metadata": {},
   "source": [
    "### 11. Manual implementation of KNN algorithm "
   ]
  },
  {
   "cell_type": "code",
   "execution_count": 3,
   "id": "05c60f4b-d9ca-4863-8544-b57e4764046e",
   "metadata": {},
   "outputs": [
    {
     "name": "stdout",
     "output_type": "stream",
     "text": [
      "    x   y color   distance\n",
      "6  25  25     b  11.180340\n",
      "3  10  25     r  14.142136\n",
      "0  40  20     r  25.000000\n",
      "\n",
      "solution is : r\n",
      "\n",
      "Name : Dhanyatha Shree C A\n",
      "Roll No : CB.SC.I5DAS21023\n",
      "\n"
     ]
    }
   ],
   "source": [
    "# MANUAL IMPLEMENTATION\n",
    "\n",
    "import pandas as pd\n",
    "x = [40, 50, 60, 10, 70, 60, 25]\n",
    "y = [20, 50, 90, 25, 70, 60, 25]\n",
    "color=['r','b','b','r','b','r','b']\n",
    "k = 3\n",
    "\n",
    "df = pd.DataFrame({'x': x, 'y': y,'color':color})\n",
    "df['distance'] = ((20 - df['x'])**2 + (35 - df['y'])**2)**0.5\n",
    "df = df.sort_values(by='distance')\n",
    "df=df.iloc[:k]\n",
    "print(df)\n",
    "print()\n",
    "co=df['color'].tolist()\n",
    "print(\"solution is :\",max(co))\n",
    "print(\"\\nName : Dhanyatha Shree C A\\nRoll No : CB.SC.I5DAS21023\\n\")"
   ]
  }
 ],
 "metadata": {
  "kernelspec": {
   "display_name": "Python 3 (ipykernel)",
   "language": "python",
   "name": "python3"
  },
  "language_info": {
   "codemirror_mode": {
    "name": "ipython",
    "version": 3
   },
   "file_extension": ".py",
   "mimetype": "text/x-python",
   "name": "python",
   "nbconvert_exporter": "python",
   "pygments_lexer": "ipython3",
   "version": "3.12.0"
  }
 },
 "nbformat": 4,
 "nbformat_minor": 5
}
