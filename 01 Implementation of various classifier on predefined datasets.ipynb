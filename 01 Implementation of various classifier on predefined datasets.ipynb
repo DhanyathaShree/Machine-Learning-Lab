{
 "cells": [
  {
   "cell_type": "markdown",
   "id": "862c4cf7-d9e6-4030-99de-38278f7f23a7",
   "metadata": {},
   "source": [
    "### 1. Implementation of various classifier on IRIs dataset"
   ]
  },
  {
   "cell_type": "code",
   "execution_count": 24,
   "id": "26da8600-187b-41de-9d8f-983fd67ba8e2",
   "metadata": {},
   "outputs": [],
   "source": [
    "import pandas as pd\n",
    "import numpy as np\n",
    "from sklearn import datasets\n",
    "from sklearn import svm\n",
    "from sklearn.tree import DecisionTreeClassifier\n",
    "from sklearn.naive_bayes import GaussianNB\n",
    "from sklearn.metrics import accuracy_score,precision_score,recall_score,f1_score\n",
    "from sklearn.model_selection import train_test_split"
   ]
  },
  {
   "cell_type": "code",
   "execution_count": 25,
   "id": "537c0c8a-0c30-4f40-a126-a3593beca245",
   "metadata": {},
   "outputs": [
    {
     "name": "stdout",
     "output_type": "stream",
     "text": [
      "x_train shape (120, 4)\n",
      "x_test shape (30, 4)\n",
      "y_train shape (120,)\n",
      "y_test shape (30,)\n"
     ]
    }
   ],
   "source": [
    "iris=datasets.load_iris()\n",
    "x=iris.data\n",
    "y=iris.target\n",
    "x_train,x_test,y_train,y_test=train_test_split(x,y,test_size=0.2,random_state=1)\n",
    "print(\"x_train shape\",x_train.shape)\n",
    "print(\"x_test shape\",x_test.shape)\n",
    "print(\"y_train shape\",y_train.shape)\n",
    "print(\"y_test shape\",y_test.shape)"
   ]
  },
  {
   "cell_type": "markdown",
   "id": "6e11313f-a744-4767-abe9-5e9be73d84e4",
   "metadata": {},
   "source": [
    "### SVM"
   ]
  },
  {
   "cell_type": "code",
   "execution_count": 26,
   "id": "60e016ea-6ca3-48c9-a078-1a01eb8916b3",
   "metadata": {},
   "outputs": [
    {
     "name": "stdout",
     "output_type": "stream",
     "text": [
      "Obtained classification results: [0 1 1 0 2 1 2 0 0 2 1 0 2 1 1 0 1 1 0 0 1 1 1 0 2 1 0 0 1 2]\n",
      "Actual classification results: [0 1 1 0 2 1 2 0 0 2 1 0 2 1 1 0 1 1 0 0 1 1 1 0 2 1 0 0 1 2]\n"
     ]
    }
   ],
   "source": [
    "svm_clf=svm.SVC(kernel='linear')\n",
    "svm_clf.fit(x_train,y_train)\n",
    "svm_clf_pred=svm_clf.predict(x_test)\n",
    "print(\"Obtained classification results:\",svm_clf_pred)\n",
    "print(\"Actual classification results:\",y_test)"
   ]
  },
  {
   "cell_type": "code",
   "execution_count": 27,
   "id": "67a4f5ce-f44c-4f19-8623-f18f2a5f4bb6",
   "metadata": {},
   "outputs": [
    {
     "name": "stdout",
     "output_type": "stream",
     "text": [
      "\n",
      "Name : Dhanyatha Shree C A\n",
      "Roll No : CB.SC.I5DAS21023\n",
      "\n",
      "Accuracy of support vector machine: 1.0\n"
     ]
    }
   ],
   "source": [
    "print(\"\\nName : Dhanyatha Shree C A\\nRoll No : CB.SC.I5DAS21023\\n\")\n",
    "print(\"Accuracy of support vector machine:\",accuracy_score(y_test,svm_clf_pred))"
   ]
  },
  {
   "cell_type": "markdown",
   "id": "fef349b1-e86d-411e-a953-7a22c8f51969",
   "metadata": {},
   "source": [
    "### Naive Bayes"
   ]
  },
  {
   "cell_type": "code",
   "execution_count": 28,
   "id": "8317c5a8-4a3d-4190-83fb-0ddb2fda9cb6",
   "metadata": {},
   "outputs": [
    {
     "name": "stdout",
     "output_type": "stream",
     "text": [
      "Accuracy of Naive Bayes: 0.9666666666666667\n",
      "\n",
      "Name : Dhanyatha Shree C A\n",
      "Roll No : CB.SC.I5DAS21023\n",
      "\n"
     ]
    }
   ],
   "source": [
    "gnb=GaussianNB()\n",
    "gnb.fit(x_train,y_train)\n",
    "gnb_pred=gnb.predict(x_test)\n",
    "print(\"Accuracy of Naive Bayes:\",accuracy_score(y_test,gnb_pred))\n",
    "print(\"\\nName : Dhanyatha Shree C A\\nRoll No : CB.SC.I5DAS21023\\n\")\n"
   ]
  },
  {
   "cell_type": "markdown",
   "id": "1bc2d570-8fe9-4374-af13-26ac53ad9312",
   "metadata": {},
   "source": [
    "### Decision Tree"
   ]
  },
  {
   "cell_type": "code",
   "execution_count": 29,
   "id": "73f9daca-2d6f-40de-81da-2c33fdca27f2",
   "metadata": {},
   "outputs": [
    {
     "data": {
      "text/html": [
       "<style>#sk-container-id-2 {color: black;}#sk-container-id-2 pre{padding: 0;}#sk-container-id-2 div.sk-toggleable {background-color: white;}#sk-container-id-2 label.sk-toggleable__label {cursor: pointer;display: block;width: 100%;margin-bottom: 0;padding: 0.3em;box-sizing: border-box;text-align: center;}#sk-container-id-2 label.sk-toggleable__label-arrow:before {content: \"▸\";float: left;margin-right: 0.25em;color: #696969;}#sk-container-id-2 label.sk-toggleable__label-arrow:hover:before {color: black;}#sk-container-id-2 div.sk-estimator:hover label.sk-toggleable__label-arrow:before {color: black;}#sk-container-id-2 div.sk-toggleable__content {max-height: 0;max-width: 0;overflow: hidden;text-align: left;background-color: #f0f8ff;}#sk-container-id-2 div.sk-toggleable__content pre {margin: 0.2em;color: black;border-radius: 0.25em;background-color: #f0f8ff;}#sk-container-id-2 input.sk-toggleable__control:checked~div.sk-toggleable__content {max-height: 200px;max-width: 100%;overflow: auto;}#sk-container-id-2 input.sk-toggleable__control:checked~label.sk-toggleable__label-arrow:before {content: \"▾\";}#sk-container-id-2 div.sk-estimator input.sk-toggleable__control:checked~label.sk-toggleable__label {background-color: #d4ebff;}#sk-container-id-2 div.sk-label input.sk-toggleable__control:checked~label.sk-toggleable__label {background-color: #d4ebff;}#sk-container-id-2 input.sk-hidden--visually {border: 0;clip: rect(1px 1px 1px 1px);clip: rect(1px, 1px, 1px, 1px);height: 1px;margin: -1px;overflow: hidden;padding: 0;position: absolute;width: 1px;}#sk-container-id-2 div.sk-estimator {font-family: monospace;background-color: #f0f8ff;border: 1px dotted black;border-radius: 0.25em;box-sizing: border-box;margin-bottom: 0.5em;}#sk-container-id-2 div.sk-estimator:hover {background-color: #d4ebff;}#sk-container-id-2 div.sk-parallel-item::after {content: \"\";width: 100%;border-bottom: 1px solid gray;flex-grow: 1;}#sk-container-id-2 div.sk-label:hover label.sk-toggleable__label {background-color: #d4ebff;}#sk-container-id-2 div.sk-serial::before {content: \"\";position: absolute;border-left: 1px solid gray;box-sizing: border-box;top: 0;bottom: 0;left: 50%;z-index: 0;}#sk-container-id-2 div.sk-serial {display: flex;flex-direction: column;align-items: center;background-color: white;padding-right: 0.2em;padding-left: 0.2em;position: relative;}#sk-container-id-2 div.sk-item {position: relative;z-index: 1;}#sk-container-id-2 div.sk-parallel {display: flex;align-items: stretch;justify-content: center;background-color: white;position: relative;}#sk-container-id-2 div.sk-item::before, #sk-container-id-2 div.sk-parallel-item::before {content: \"\";position: absolute;border-left: 1px solid gray;box-sizing: border-box;top: 0;bottom: 0;left: 50%;z-index: -1;}#sk-container-id-2 div.sk-parallel-item {display: flex;flex-direction: column;z-index: 1;position: relative;background-color: white;}#sk-container-id-2 div.sk-parallel-item:first-child::after {align-self: flex-end;width: 50%;}#sk-container-id-2 div.sk-parallel-item:last-child::after {align-self: flex-start;width: 50%;}#sk-container-id-2 div.sk-parallel-item:only-child::after {width: 0;}#sk-container-id-2 div.sk-dashed-wrapped {border: 1px dashed gray;margin: 0 0.4em 0.5em 0.4em;box-sizing: border-box;padding-bottom: 0.4em;background-color: white;}#sk-container-id-2 div.sk-label label {font-family: monospace;font-weight: bold;display: inline-block;line-height: 1.2em;}#sk-container-id-2 div.sk-label-container {text-align: center;}#sk-container-id-2 div.sk-container {/* jupyter's `normalize.less` sets `[hidden] { display: none; }` but bootstrap.min.css set `[hidden] { display: none !important; }` so we also need the `!important` here to be able to override the default hidden behavior on the sphinx rendered scikit-learn.org. See: https://github.com/scikit-learn/scikit-learn/issues/21755 */display: inline-block !important;position: relative;}#sk-container-id-2 div.sk-text-repr-fallback {display: none;}</style><div id=\"sk-container-id-2\" class=\"sk-top-container\"><div class=\"sk-text-repr-fallback\"><pre>DecisionTreeClassifier(random_state=0)</pre><b>In a Jupyter environment, please rerun this cell to show the HTML representation or trust the notebook. <br />On GitHub, the HTML representation is unable to render, please try loading this page with nbviewer.org.</b></div><div class=\"sk-container\" hidden><div class=\"sk-item\"><div class=\"sk-estimator sk-toggleable\"><input class=\"sk-toggleable__control sk-hidden--visually\" id=\"sk-estimator-id-2\" type=\"checkbox\" checked><label for=\"sk-estimator-id-2\" class=\"sk-toggleable__label sk-toggleable__label-arrow\">DecisionTreeClassifier</label><div class=\"sk-toggleable__content\"><pre>DecisionTreeClassifier(random_state=0)</pre></div></div></div></div></div>"
      ],
      "text/plain": [
       "DecisionTreeClassifier(random_state=0)"
      ]
     },
     "execution_count": 29,
     "metadata": {},
     "output_type": "execute_result"
    }
   ],
   "source": [
    "dt=DecisionTreeClassifier(random_state=0)\n",
    "dt.fit(x_train,y_train)"
   ]
  },
  {
   "cell_type": "code",
   "execution_count": 30,
   "id": "c4c7c016-cfb4-4afa-a357-3a03b859fce9",
   "metadata": {},
   "outputs": [
    {
     "name": "stdout",
     "output_type": "stream",
     "text": [
      "Accuracy of decision tree classifier: 0.9666666666666667\n",
      "\n",
      "Name : Dhanyatha Shree C A\n",
      "Roll No : CB.SC.I5DAS21023\n",
      "\n"
     ]
    }
   ],
   "source": [
    "dt_pred=dt.predict(x_test)\n",
    "print(\"Accuracy of decision tree classifier:\",accuracy_score(y_test,dt_pred))\n",
    "print(\"\\nName : Dhanyatha Shree C A\\nRoll No : CB.SC.I5DAS21023\\n\")\n"
   ]
  },
  {
   "cell_type": "markdown",
   "id": "9e033778-ac1e-4544-acbe-81709eff1f80",
   "metadata": {},
   "source": [
    "### COMPARING ACCURACIES OF SVM,NAIVE BAYES AND DECISION TREE CLASSIFIERS"
   ]
  },
  {
   "cell_type": "code",
   "execution_count": 31,
   "id": "aa5dabf4-79ad-4742-8b75-3182ee74b052",
   "metadata": {},
   "outputs": [
    {
     "name": "stdout",
     "output_type": "stream",
     "text": [
      "Accuracy of support vector machine: 1.0\n",
      "Accuracy of Naive Bayes: 0.9666666666666667\n",
      "Accuracy of Decision Tree Classifier: 0.9666666666666667\n",
      "\n",
      "Name : Dhanyatha Shree C A\n",
      "Roll No : CB.SC.I5DAS21023\n",
      "\n"
     ]
    }
   ],
   "source": [
    "print('Accuracy of support vector machine:',accuracy_score(y_test,svm_clf_pred))\n",
    "print(\"Accuracy of Naive Bayes:\",accuracy_score(y_test,gnb_pred))\n",
    "print(\"Accuracy of Decision Tree Classifier:\",accuracy_score(y_test,dt_pred))\n",
    "print(\"\\nName : Dhanyatha Shree C A\\nRoll No : CB.SC.I5DAS21023\\n\")"
   ]
  },
  {
   "cell_type": "code",
   "execution_count": null,
   "id": "707d924b-2108-4269-a23f-94d8c98fd5e4",
   "metadata": {},
   "outputs": [],
   "source": []
  }
 ],
 "metadata": {
  "kernelspec": {
   "display_name": "Python 3 (ipykernel)",
   "language": "python",
   "name": "python3"
  },
  "language_info": {
   "codemirror_mode": {
    "name": "ipython",
    "version": 3
   },
   "file_extension": ".py",
   "mimetype": "text/x-python",
   "name": "python",
   "nbconvert_exporter": "python",
   "pygments_lexer": "ipython3",
   "version": "3.12.0"
  }
 },
 "nbformat": 4,
 "nbformat_minor": 5
}
