{
 "cells": [
  {
   "cell_type": "markdown",
   "id": "b6902925-8411-434c-a87e-cc9e1a94990b",
   "metadata": {},
   "source": [
    "### 19. Implementation of random forest"
   ]
  },
  {
   "cell_type": "code",
   "execution_count": 6,
   "id": "8fc8f901",
   "metadata": {},
   "outputs": [],
   "source": [
    "import numpy as np\n",
    "import pandas as pd\n",
    "from sklearn.model_selection import train_test_split\n",
    "from sklearn.metrics import precision_score, recall_score, f1_score, accuracy_score\n",
    "from sklearn.ensemble import RandomForestClassifier\n",
    "\n",
    "df = pd.read_csv(\"heart.csv\")\n",
    "x = df.drop('target', axis = 1)\n",
    "y = df['target']\n",
    "x_train, x_test, y_train, y_test = train_test_split(x, y, test_size=0.2, random_state=0)"
   ]
  },
  {
   "cell_type": "code",
   "execution_count": 7,
   "id": "462a2814",
   "metadata": {},
   "outputs": [
    {
     "name": "stdout",
     "output_type": "stream",
     "text": [
      "Accuracy Score of Random Forest : 0.8524590163934426\n",
      "\n",
      "Name: Dhanyatha Shree C A\n",
      "Roll no: CB.SC.I5DAS21023\n",
      "\n"
     ]
    }
   ],
   "source": [
    "rf = RandomForestClassifier(random_state=42, n_jobs =- 1, max_depth=5,n_estimators=100, oob_score=True)\n",
    "rf.fit(x_train, y_train)\n",
    "y_predict=rf.predict(x_test)\n",
    "print('Accuracy Score of Random Forest :',accuracy_score(y_test,y_predict))\n",
    "print(\"\\nName: Dhanyatha Shree C A\\nRoll no: CB.SC.I5DAS21023\\n\")"
   ]
  }
 ],
 "metadata": {
  "kernelspec": {
   "display_name": "Python 3 (ipykernel)",
   "language": "python",
   "name": "python3"
  },
  "language_info": {
   "codemirror_mode": {
    "name": "ipython",
    "version": 3
   },
   "file_extension": ".py",
   "mimetype": "text/x-python",
   "name": "python",
   "nbconvert_exporter": "python",
   "pygments_lexer": "ipython3",
   "version": "3.12.0"
  }
 },
 "nbformat": 4,
 "nbformat_minor": 5
}
