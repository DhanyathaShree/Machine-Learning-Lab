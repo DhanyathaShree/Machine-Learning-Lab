{
 "cells": [
  {
   "cell_type": "markdown",
   "id": "6c00a2db-f26e-4f57-9360-4d9af7b02a48",
   "metadata": {},
   "source": [
    "### 13. Implementation of matrix factorization"
   ]
  },
  {
   "cell_type": "code",
   "execution_count": 1,
   "id": "c13f798c-e4f9-4b71-96a7-4b349c9816c0",
   "metadata": {},
   "outputs": [
    {
     "name": "stdout",
     "output_type": "stream",
     "text": [
      "[[0.01610836 0.31968283 0.39444635 0.17565318 0.02258771]\n",
      " [0.03571335 0.70875927 0.87451522 0.38943542 0.05007853]\n",
      " [0.01574352 0.31244237 0.38551257 0.17167483 0.02207612]\n",
      " [0.02286717 0.45381667 0.55994977 0.24935446 0.03206515]\n",
      " [0.00689148 0.13676677 0.16875211 0.07514798 0.00966348]]\n",
      "\n",
      "Name : Dhanyatha Shree C A\n",
      "Roll No : CB.SC.I5DAS21023\n",
      "\n"
     ]
    }
   ],
   "source": [
    "import numpy as np\n",
    "import math\n",
    "import sklearn.metrics\n",
    "def matrix_factorization(R,P,Q,K,steps=5000,alpha=0.0001):\n",
    "    Q=Q.T\n",
    "    for step in range(steps):\n",
    "        for i in range(len(R)):\n",
    "            for j in range(len(R[i])):\n",
    "                if R[i][j]>0:\n",
    "                    eij=R[i][j]-np.dot(P[i,:],Q[:,j])\n",
    "                    for k in range(K):\n",
    "                        P[i][k]=P[i][k]+alpha*2*eij*Q[k][j]\n",
    "                        Q[k][j]=Q[k][j]+alpha*2*eij*P[i][k]\n",
    "        return P,Q.T\n",
    "R=[[0,5,4,2,1],[1,0,0,5,3],[1,4,4,1,0],[0,0,2,0,2],[3,1,1,0,0]]\n",
    "R=np.array(R)\n",
    "N=len(R)\n",
    "M=len(R[0])\n",
    "K=1\n",
    "P=np.random.rand(N,K)\n",
    "Q=np.random.rand(M,K)\n",
    "nP,nQ=matrix_factorization(R,P,Q,K)\n",
    "nR=np.dot(nP,nQ.T)\n",
    "print(nR)\n",
    "print(\"\\nName : Dhanyatha Shree C A\\nRoll No : CB.SC.I5DAS21023\\n\")"
   ]
  },
  {
   "cell_type": "code",
   "execution_count": null,
   "id": "b161a713-8931-4af6-acff-f376ce117a0a",
   "metadata": {},
   "outputs": [],
   "source": []
  }
 ],
 "metadata": {
  "kernelspec": {
   "display_name": "Python 3 (ipykernel)",
   "language": "python",
   "name": "python3"
  },
  "language_info": {
   "codemirror_mode": {
    "name": "ipython",
    "version": 3
   },
   "file_extension": ".py",
   "mimetype": "text/x-python",
   "name": "python",
   "nbconvert_exporter": "python",
   "pygments_lexer": "ipython3",
   "version": "3.12.0"
  }
 },
 "nbformat": 4,
 "nbformat_minor": 5
}
