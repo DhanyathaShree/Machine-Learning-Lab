{
 "cells": [
  {
   "cell_type": "markdown",
   "id": "f4a61ebd-59d9-4d7d-a68b-ad4e031f2423",
   "metadata": {},
   "source": [
    "### 5.\tImplementation of binomial logistic regression"
   ]
  },
  {
   "cell_type": "code",
   "execution_count": 3,
   "id": "e0d79dc5-4cd9-45f1-9b02-5b01f2b73414",
   "metadata": {},
   "outputs": [
    {
     "name": "stdout",
     "output_type": "stream",
     "text": [
      "Logistic Regression model accuracy (in %): 96.49122807017544\n",
      "\n",
      "Name : Dhanyatha Shree C A\n",
      "Roll No : CB.SC.I5DAS21023\n",
      "\n"
     ]
    },
    {
     "name": "stderr",
     "output_type": "stream",
     "text": [
      "C:\\Python312\\Lib\\site-packages\\sklearn\\linear_model\\_logistic.py:460: ConvergenceWarning: lbfgs failed to converge (status=1):\n",
      "STOP: TOTAL NO. of ITERATIONS REACHED LIMIT.\n",
      "\n",
      "Increase the number of iterations (max_iter) or scale the data as shown in:\n",
      "    https://scikit-learn.org/stable/modules/preprocessing.html\n",
      "Please also refer to the documentation for alternative solver options:\n",
      "    https://scikit-learn.org/stable/modules/linear_model.html#logistic-regression\n",
      "  n_iter_i = _check_optimize_result(\n"
     ]
    }
   ],
   "source": [
    "from sklearn.datasets import load_breast_cancer \n",
    "from sklearn.linear_model import LogisticRegression\n",
    "from sklearn.model_selection import train_test_split \n",
    "from sklearn.metrics import accuracy_score \n",
    " \n",
    "x, y = load_breast_cancer(return_X_y=True) \n",
    "x_train, x_test,y_train, y_test = train_test_split(x, y,test_size=0.20,random_state=23) \n",
    "\n",
    "# LogisticRegression \n",
    "clf = LogisticRegression() \n",
    "clf.fit(x_train, y_train) \n",
    "# Prediction \n",
    "y_pred = clf.predict(x_test) \n",
    "acc = accuracy_score(y_test, y_pred) \n",
    "print(\"Logistic Regression model accuracy (in %):\", acc*100) \n",
    "print(\"\\nName : Dhanyatha Shree C A\\nRoll No : CB.SC.I5DAS21023\\n\")"
   ]
  }
 ],
 "metadata": {
  "kernelspec": {
   "display_name": "Python 3 (ipykernel)",
   "language": "python",
   "name": "python3"
  },
  "language_info": {
   "codemirror_mode": {
    "name": "ipython",
    "version": 3
   },
   "file_extension": ".py",
   "mimetype": "text/x-python",
   "name": "python",
   "nbconvert_exporter": "python",
   "pygments_lexer": "ipython3",
   "version": "3.12.0"
  }
 },
 "nbformat": 4,
 "nbformat_minor": 5
}
