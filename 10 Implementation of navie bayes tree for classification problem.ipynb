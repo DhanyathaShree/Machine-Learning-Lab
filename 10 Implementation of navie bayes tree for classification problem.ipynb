{
 "cells": [
  {
   "cell_type": "markdown",
   "id": "d47baa8f-f844-4b38-a71a-b4537e5deb46",
   "metadata": {},
   "source": [
    "### 10.\tImplementation of navie bayes tree for classification problem\n"
   ]
  },
  {
   "cell_type": "code",
   "execution_count": 7,
   "id": "78b75515-1985-492d-b410-e948355afcf6",
   "metadata": {},
   "outputs": [
    {
     "name": "stdout",
     "output_type": "stream",
     "text": [
      "accuracy of Naive Bayes classifier:  0.8333333333333334\n",
      "\n",
      "Name : Dhanyatha Shree C A\n",
      "Roll No : CB.SC.I5DAS21023\n",
      "\n"
     ]
    }
   ],
   "source": [
    "import numpy as np \n",
    "import pandas as pd \n",
    "from sklearn.model_selection import train_test_split \n",
    "from sklearn.metrics import accuracy_score \n",
    "from sklearn import datasets \n",
    "from sklearn.naive_bayes import GaussianNB \n",
    "from sklearn.preprocessing import *\n",
    "\n",
    "df=pd.read_csv('naivebayes.csv')\n",
    "df=df.apply(LabelEncoder().fit_transform)\n",
    "\n",
    "x=df.iloc[:,:-1]\n",
    "y=df['Play Golf']\n",
    "\n",
    "x_train,x_test,y_train,y_test=train_test_split(x,y,test_size=0.4)\n",
    "gnb=GaussianNB()\n",
    "gnb.fit(x_train,y_train)\n",
    "df_predict=gnb.predict(x_test)\n",
    "print(\"accuracy of Naive Bayes classifier: \",accuracy_score(y_test,df_predict))\n",
    "print(\"\\nName : Dhanyatha Shree C A\\nRoll No : CB.SC.I5DAS21023\\n\")"
   ]
  },
  {
   "cell_type": "code",
   "execution_count": null,
   "id": "ac26ef4e-b9c9-45a9-afe6-2ed2aa5d04db",
   "metadata": {},
   "outputs": [],
   "source": []
  }
 ],
 "metadata": {
  "kernelspec": {
   "display_name": "Python 3 (ipykernel)",
   "language": "python",
   "name": "python3"
  },
  "language_info": {
   "codemirror_mode": {
    "name": "ipython",
    "version": 3
   },
   "file_extension": ".py",
   "mimetype": "text/x-python",
   "name": "python",
   "nbconvert_exporter": "python",
   "pygments_lexer": "ipython3",
   "version": "3.11.7"
  }
 },
 "nbformat": 4,
 "nbformat_minor": 5
}
