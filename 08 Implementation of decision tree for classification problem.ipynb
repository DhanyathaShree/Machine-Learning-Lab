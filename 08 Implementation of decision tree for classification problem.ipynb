{
 "cells": [
  {
   "cell_type": "markdown",
   "id": "b6a598c8-763a-4a03-9f06-ffaa7ad3aa03",
   "metadata": {},
   "source": [
    "### 8.\tImplementation of decision tree for classification problem\n"
   ]
  },
  {
   "cell_type": "code",
   "execution_count": 1,
   "id": "f2f08d2f-efbc-463d-a497-dd19913cc394",
   "metadata": {},
   "outputs": [
    {
     "name": "stdout",
     "output_type": "stream",
     "text": [
      "Accuracy of Decision Tree Classifier:  0.9666666666666667\n",
      "\n",
      "Name : Dhanyatha Shree C A\n",
      "Roll No : CB.SC.I5DAS21023\n",
      "\n"
     ]
    }
   ],
   "source": [
    "import numpy as np \n",
    "import pandas as pd \n",
    "from sklearn.model_selection import train_test_split \n",
    "from sklearn.metrics import accuracy_score, precision_score, recall_score, f1_score \n",
    "from sklearn import *\n",
    "from sklearn.tree import DecisionTreeClassifier \n",
    "\n",
    "iris = datasets.load_iris() \n",
    "X = iris.data \n",
    "y = iris.target \n",
    "\n",
    "X_train, X_test, y_train, y_test = train_test_split(X, y, test_size=0.2, random_state=1) \n",
    "dt = DecisionTreeClassifier(criterion=\"entropy\") \n",
    " \n",
    "dt.fit(X_train, y_train) \n",
    "dt_pred = dt.predict(X_test) \n",
    "print(\"Accuracy of Decision Tree Classifier: \", accuracy_score(y_test, dt_pred))\n",
    "print(\"\\nName : Dhanyatha Shree C A\\nRoll No : CB.SC.I5DAS21023\\n\")"
   ]
  },
  {
   "cell_type": "code",
   "execution_count": null,
   "id": "f88f7bb0-33f9-4ae9-bca3-44545aca5662",
   "metadata": {},
   "outputs": [],
   "source": []
  }
 ],
 "metadata": {
  "kernelspec": {
   "display_name": "Python 3 (ipykernel)",
   "language": "python",
   "name": "python3"
  },
  "language_info": {
   "codemirror_mode": {
    "name": "ipython",
    "version": 3
   },
   "file_extension": ".py",
   "mimetype": "text/x-python",
   "name": "python",
   "nbconvert_exporter": "python",
   "pygments_lexer": "ipython3",
   "version": "3.11.7"
  }
 },
 "nbformat": 4,
 "nbformat_minor": 5
}
