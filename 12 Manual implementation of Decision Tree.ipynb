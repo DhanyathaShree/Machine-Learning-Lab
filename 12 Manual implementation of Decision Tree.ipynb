{
 "cells": [
  {
   "cell_type": "markdown",
   "id": "333ab3dd-d7f8-45b9-a514-1631b4a10a81",
   "metadata": {},
   "source": [
    "### 12. Manual implementation of Decision Tree\n"
   ]
  },
  {
   "cell_type": "code",
   "execution_count": 1,
   "id": "5732215b-c96f-4731-a052-d4f8900a4bdb",
   "metadata": {},
   "outputs": [
    {
     "name": "stdout",
     "output_type": "stream",
     "text": [
      "E(parent) :  0.9402859586706311\n",
      "Information gain of Outlook : 0.24674981977443933\n",
      "Information gain of Temperature : 0.02922256565895487\n",
      "Information gain of Humidity : 0.15183550136234159\n",
      "Information gain of Windy : 0.04812703040826949\n",
      "\n",
      "Name : Dhanyatha Shree C A\n",
      "Roll No : CB.SC.I5DAS21023\n",
      "\n"
     ]
    }
   ],
   "source": [
    "import pandas as pd\n",
    "from math import *\n",
    "df=pd.read_csv('naivebayes.csv')\n",
    "x_=df.iloc[:,:-1]\n",
    "\n",
    "n=len(df)\n",
    "yes=(df['Play Golf']=='Yes').sum()\n",
    "no=(df['Play Golf']=='No').sum()\n",
    "parent= -((yes/n)*log2(yes/n))-((no/n)*log2(no/n))\n",
    "print('E(parent) : ',parent)\n",
    "\n",
    "columns=x_.columns.tolist()\n",
    "for x in columns:\n",
    "    out=df[x].unique().tolist()\n",
    "    prob=[]\n",
    "    entropy=[]\n",
    "    for i in out:\n",
    "        tot=((df[x]==i).sum())\n",
    "        y_ent=len(df.loc[(df[x]==i)&(df['Play Golf']=='Yes')])\n",
    "        n_ent=len(df.loc[(df[x]==i)&(df['Play Golf']=='No')])\n",
    "        py=y_ent/tot\n",
    "        pn=n_ent/tot\n",
    "        entropy_out= -(py * log2(py))-(pn * log2(pn)) if (pn > 0 and py>0) else 0\n",
    "        entropy.append(entropy_out)\n",
    "        prob.append(tot/n)\n",
    "    ig=0\n",
    "    for j in range(len(entropy)):\n",
    "        a= prob[j] * entropy[j]\n",
    "        ig+=a\n",
    "    ig=parent-ig\n",
    "    print(f'Information gain of {x} : {ig}')\n",
    "\n",
    "print(\"\\nName : Dhanyatha Shree C A\\nRoll No : CB.SC.I5DAS21023\\n\")"
   ]
  },
  {
   "cell_type": "code",
   "execution_count": null,
   "id": "09dee0e5-20e2-4d26-ba1d-50dacae233d8",
   "metadata": {},
   "outputs": [],
   "source": []
  }
 ],
 "metadata": {
  "kernelspec": {
   "display_name": "Python 3 (ipykernel)",
   "language": "python",
   "name": "python3"
  },
  "language_info": {
   "codemirror_mode": {
    "name": "ipython",
    "version": 3
   },
   "file_extension": ".py",
   "mimetype": "text/x-python",
   "name": "python",
   "nbconvert_exporter": "python",
   "pygments_lexer": "ipython3",
   "version": "3.12.0"
  }
 },
 "nbformat": 4,
 "nbformat_minor": 5
}
