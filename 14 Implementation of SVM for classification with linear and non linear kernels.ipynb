{
 "cells": [
  {
   "cell_type": "markdown",
   "id": "2f7019f8",
   "metadata": {},
   "source": [
    "### 14. Implementation of SVM for classification with linear and non linear kernels. "
   ]
  },
  {
   "cell_type": "code",
   "execution_count": 1,
   "id": "09ee22d0",
   "metadata": {},
   "outputs": [],
   "source": [
    "import numpy as np \n",
    "import pandas as pd \n",
    "from sklearn.model_selection import train_test_split \n",
    "from sklearn.metrics import accuracy_score,precision_score,f1_score,recall_score\n",
    "from sklearn import datasets \n",
    "from sklearn.svm import SVC\n",
    "from sklearn.preprocessing import LabelEncoder \n",
    "\n",
    "df = pd.read_csv('coviddata.csv')\n",
    "\n",
    "le=LabelEncoder()\n",
    "df['SEX']=le.fit_transform(df['SEX'])\n",
    "df['PATIENT_TYPE']=le.fit_transform(df['PATIENT_TYPE'])\n",
    "df['RESULTS']=le.fit_transform(df['RESULTS'])"
   ]
  },
  {
   "cell_type": "code",
   "execution_count": 4,
   "id": "7a5a5800-49f3-4df8-9941-c695a8d402fc",
   "metadata": {},
   "outputs": [
    {
     "name": "stdout",
     "output_type": "stream",
     "text": [
      "\n",
      "Name : Dhanyatha Shree C A\n",
      "Roll No : CB.SC.I5DAS21023\n",
      "\n"
     ]
    }
   ],
   "source": [
    "x=df.drop(['RESULTS'],axis=1)\n",
    "y=df['RESULTS']\n",
    "\n",
    "x_train,x_test,y_train,y_test=train_test_split(x,y,test_size=0.2,random_state=1)"
   ]
  },
  {
   "cell_type": "code",
   "execution_count": 5,
   "id": "dd987da9-a306-46de-bfc3-ecee7a1f7f8b",
   "metadata": {},
   "outputs": [
    {
     "name": "stdout",
     "output_type": "stream",
     "text": [
      "Accuracy of SVM Classifier:  0.8955\n",
      "\n",
      "Name : Dhanyatha Shree C A\n",
      "Roll No : CB.SC.I5DAS21023\n",
      "\n"
     ]
    }
   ],
   "source": [
    "clf = SVC(kernel='linear')\n",
    "clf.fit(x_train, y_train) \n",
    "dt_pred = clf.predict(x_test) \n",
    "print(\"Accuracy of SVM Classifier: \", accuracy_score(y_test, dt_pred))\n",
    "print(\"\\nName : Dhanyatha Shree C A\\nRoll No : CB.SC.I5DAS21023\\n\")"
   ]
  },
  {
   "cell_type": "markdown",
   "id": "eaf08c5b",
   "metadata": {},
   "source": [
    "### Non Linear Kernel"
   ]
  },
  {
   "cell_type": "code",
   "execution_count": 8,
   "id": "f5abe46e",
   "metadata": {},
   "outputs": [
    {
     "name": "stdout",
     "output_type": "stream",
     "text": [
      "Accuracy of SVM Classifier:  0.8715\n",
      "\n",
      "Name : Dhanyatha Shree C A\n",
      "Roll No : CB.SC.I5DAS21023\n",
      "\n"
     ]
    }
   ],
   "source": [
    "clf = SVC(kernel='rbf')\n",
    "clf.fit(x_train, y_train) \n",
    "dt_pred = clf.predict(x_test) \n",
    "print(\"Accuracy of SVM Classifier: \", accuracy_score(y_test, dt_pred))\n",
    "print(\"\\nName : Dhanyatha Shree C A\\nRoll No : CB.SC.I5DAS21023\\n\")"
   ]
  }
 ],
 "metadata": {
  "kernelspec": {
   "display_name": "Python 3 (ipykernel)",
   "language": "python",
   "name": "python3"
  },
  "language_info": {
   "codemirror_mode": {
    "name": "ipython",
    "version": 3
   },
   "file_extension": ".py",
   "mimetype": "text/x-python",
   "name": "python",
   "nbconvert_exporter": "python",
   "pygments_lexer": "ipython3",
   "version": "3.12.0"
  }
 },
 "nbformat": 4,
 "nbformat_minor": 5
}
